{
 "cells": [
  {
   "attachments": {},
   "cell_type": "markdown",
   "metadata": {},
   "source": [
    "# Tutorial for Using Split-Raster for Deep Learning"
   ]
  },
  {
   "attachments": {},
   "cell_type": "markdown",
   "metadata": {},
   "source": [
    "This demo we will split a large image into small tiles. It is useful for deep learning and computer vision tasks. The package can also be used to split a large image into small tiles for other applications.\n",
    "\n",
    "For example, we have a large image of size 1000-by-1000, and we want to split it into 256-by-256 tiles. The `SplitRaster` package successfully generate 16 256x256 images tiles with automatic padding on the edges. You can adjust the tile size and the overlap of the tiles for your own applications."
   ]
  },
  {
   "cell_type": "markdown",
   "metadata": {},
   "source": [
    "## Known Issues: OSGEO / GDAL\n",
    "\n",
    "The osgeo module is part of the GDAL library, which is a translator library for raster and vector geospatial data formats.\n",
    "You can install GDAL using pip, but it has some system dependencies. On a Mac, you can install these using Homebrew:\n",
    "```bash\n",
    "brew install gdal\n",
    "```\n",
    "\n",
    "then, you can install the Python GDAL package:\n",
    "\n",
    "```bash\n",
    "pip install GDAl\n",
    "```\n",
    "Please note that installing GDAL can be complex due to its system dependencies. If you encounter issues, you may need to consult the GDAL documentation or seek help from the community."
   ]
  },
  {
   "attachments": {},
   "cell_type": "markdown",
   "metadata": {},
   "source": [
    "## Setup Env with Conda/MiniConda\n",
    "\n",
    "Setup your local or cloud environment for this demo.\n",
    "\n",
    "```Bash\n",
    "conda create -n split_raster_py310 python=3.10 -y\n",
    "conda activate split_raster_py310\n",
    "conda install gdal -y\n",
    "conda install ipykernel -y\n",
    "pip install --upgrade pip\n",
    "pip install splitraster\n",
    "``` "
   ]
  },
  {
   "attachments": {},
   "cell_type": "markdown",
   "metadata": {},
   "source": [
    "This demo we use the python 3.10, but the package is compatible with python 3.7, 3.8, 3.9, 3.10, 3.11, 3.12. "
   ]
  },
  {
   "cell_type": "code",
   "execution_count": 1,
   "metadata": {},
   "outputs": [],
   "source": [
    "# Clean the output folder\n",
    "!rm -rf ../data/processed/RGB_TIF\n",
    "!rm -rf ../data/processed/GT_TIF\n"
   ]
  },
  {
   "cell_type": "code",
   "execution_count": 2,
   "metadata": {},
   "outputs": [
    {
     "name": "stderr",
     "output_type": "stream",
     "text": [
      "/Users/caihaocui/.local/share/virtualenvs/split_raster-m2hVat3N/lib/python3.10/site-packages/osgeo/gdal.py:312: FutureWarning: Neither gdal.UseExceptions() nor gdal.DontUseExceptions() has been explicitly called. In GDAL 4.0, exceptions will be enabled by default.\n",
      "  warnings.warn(\n"
     ]
    },
    {
     "name": "stdout",
     "output_type": "stream",
     "text": [
      "Input Image File Shape (D, H, W):(3, 5000, 5000)\n",
      "crop_size=256, stride=256\n",
      "Padding Image File Shape (D, H, W):(3, 5120, 5120)\n"
     ]
    },
    {
     "name": "stderr",
     "output_type": "stream",
     "text": [
      "Generating: 100%|\u001b[32m██████████\u001b[0m| 400/400 [00:00<00:00, 2127.55img/s]\n"
     ]
    },
    {
     "name": "stdout",
     "output_type": "stream",
     "text": [
      "400 tiles sample of ../data/raw/TIF/RGB5k.tif are added at ../data/processed/RGB_TIF\n",
      "Input Image File Shape (D, H, W):(1, 5000, 5000)\n",
      "crop_size=256, stride=256\n",
      "Padding Image File Shape (D, H, W):(1, 5120, 5120)\n"
     ]
    },
    {
     "name": "stderr",
     "output_type": "stream",
     "text": [
      "Generating: 100%|\u001b[32m██████████\u001b[0m| 400/400 [00:00<00:00, 2673.49img/s]"
     ]
    },
    {
     "name": "stdout",
     "output_type": "stream",
     "text": [
      "400 tiles sample of ../data/raw/TIF/GT5k.tif are added at ../data/processed/GT_TIF\n"
     ]
    },
    {
     "name": "stderr",
     "output_type": "stream",
     "text": [
      "\n"
     ]
    }
   ],
   "source": [
    "from splitraster import geo\n",
    "\n",
    "input_image_path = \"../data/raw/TIF/RGB5k.tif\"\n",
    "gt_image_path = \"../data/raw/TIF/GT5k.tif\"\n",
    "\n",
    "save_path = \"../data/processed/RGB_TIF\"\n",
    "save_path_gt = \"../data/processed/GT_TIF\"\n",
    "\n",
    "crop_size = 256\n",
    "repetition_rate = 0 # <----- change this value to 0.5 for 50% overlap\n",
    "overwrite = True # <----- change this value to False for no overwrite demo\n",
    "\n",
    "n = geo.split_image(input_image_path, save_path, crop_size,\n",
    "                   repetition_rate=repetition_rate, overwrite=overwrite)\n",
    "print(f\"{n} tiles sample of {input_image_path} are added at {save_path}\")\n",
    "\n",
    "\n",
    "n = geo.split_image(gt_image_path, save_path_gt, crop_size,\n",
    "                   repetition_rate=repetition_rate, overwrite=overwrite)\n",
    "print(f\"{n} tiles sample of {gt_image_path} are added at {save_path_gt}\")"
   ]
  },
  {
   "cell_type": "code",
   "execution_count": 3,
   "metadata": {},
   "outputs": [
    {
     "name": "stdout",
     "output_type": "stream",
     "text": [
      "0001.tif 0051.tif 0101.tif 0151.tif 0201.tif 0251.tif 0301.tif 0351.tif\n",
      "0002.tif 0052.tif 0102.tif 0152.tif 0202.tif 0252.tif 0302.tif 0352.tif\n",
      "0003.tif 0053.tif 0103.tif 0153.tif 0203.tif 0253.tif 0303.tif 0353.tif\n",
      "0004.tif 0054.tif 0104.tif 0154.tif 0204.tif 0254.tif 0304.tif 0354.tif\n",
      "0005.tif 0055.tif 0105.tif 0155.tif 0205.tif 0255.tif 0305.tif 0355.tif\n",
      "0006.tif 0056.tif 0106.tif 0156.tif 0206.tif 0256.tif 0306.tif 0356.tif\n",
      "0007.tif 0057.tif 0107.tif 0157.tif 0207.tif 0257.tif 0307.tif 0357.tif\n",
      "0008.tif 0058.tif 0108.tif 0158.tif 0208.tif 0258.tif 0308.tif 0358.tif\n",
      "0009.tif 0059.tif 0109.tif 0159.tif 0209.tif 0259.tif 0309.tif 0359.tif\n",
      "0010.tif 0060.tif 0110.tif 0160.tif 0210.tif 0260.tif 0310.tif 0360.tif\n",
      "0011.tif 0061.tif 0111.tif 0161.tif 0211.tif 0261.tif 0311.tif 0361.tif\n",
      "0012.tif 0062.tif 0112.tif 0162.tif 0212.tif 0262.tif 0312.tif 0362.tif\n",
      "0013.tif 0063.tif 0113.tif 0163.tif 0213.tif 0263.tif 0313.tif 0363.tif\n",
      "0014.tif 0064.tif 0114.tif 0164.tif 0214.tif 0264.tif 0314.tif 0364.tif\n",
      "0015.tif 0065.tif 0115.tif 0165.tif 0215.tif 0265.tif 0315.tif 0365.tif\n",
      "0016.tif 0066.tif 0116.tif 0166.tif 0216.tif 0266.tif 0316.tif 0366.tif\n",
      "0017.tif 0067.tif 0117.tif 0167.tif 0217.tif 0267.tif 0317.tif 0367.tif\n",
      "0018.tif 0068.tif 0118.tif 0168.tif 0218.tif 0268.tif 0318.tif 0368.tif\n",
      "0019.tif 0069.tif 0119.tif 0169.tif 0219.tif 0269.tif 0319.tif 0369.tif\n",
      "0020.tif 0070.tif 0120.tif 0170.tif 0220.tif 0270.tif 0320.tif 0370.tif\n",
      "0021.tif 0071.tif 0121.tif 0171.tif 0221.tif 0271.tif 0321.tif 0371.tif\n",
      "0022.tif 0072.tif 0122.tif 0172.tif 0222.tif 0272.tif 0322.tif 0372.tif\n",
      "0023.tif 0073.tif 0123.tif 0173.tif 0223.tif 0273.tif 0323.tif 0373.tif\n",
      "0024.tif 0074.tif 0124.tif 0174.tif 0224.tif 0274.tif 0324.tif 0374.tif\n",
      "0025.tif 0075.tif 0125.tif 0175.tif 0225.tif 0275.tif 0325.tif 0375.tif\n",
      "0026.tif 0076.tif 0126.tif 0176.tif 0226.tif 0276.tif 0326.tif 0376.tif\n",
      "0027.tif 0077.tif 0127.tif 0177.tif 0227.tif 0277.tif 0327.tif 0377.tif\n",
      "0028.tif 0078.tif 0128.tif 0178.tif 0228.tif 0278.tif 0328.tif 0378.tif\n",
      "0029.tif 0079.tif 0129.tif 0179.tif 0229.tif 0279.tif 0329.tif 0379.tif\n",
      "0030.tif 0080.tif 0130.tif 0180.tif 0230.tif 0280.tif 0330.tif 0380.tif\n",
      "0031.tif 0081.tif 0131.tif 0181.tif 0231.tif 0281.tif 0331.tif 0381.tif\n",
      "0032.tif 0082.tif 0132.tif 0182.tif 0232.tif 0282.tif 0332.tif 0382.tif\n",
      "0033.tif 0083.tif 0133.tif 0183.tif 0233.tif 0283.tif 0333.tif 0383.tif\n",
      "0034.tif 0084.tif 0134.tif 0184.tif 0234.tif 0284.tif 0334.tif 0384.tif\n",
      "0035.tif 0085.tif 0135.tif 0185.tif 0235.tif 0285.tif 0335.tif 0385.tif\n",
      "0036.tif 0086.tif 0136.tif 0186.tif 0236.tif 0286.tif 0336.tif 0386.tif\n",
      "0037.tif 0087.tif 0137.tif 0187.tif 0237.tif 0287.tif 0337.tif 0387.tif\n",
      "0038.tif 0088.tif 0138.tif 0188.tif 0238.tif 0288.tif 0338.tif 0388.tif\n",
      "0039.tif 0089.tif 0139.tif 0189.tif 0239.tif 0289.tif 0339.tif 0389.tif\n",
      "0040.tif 0090.tif 0140.tif 0190.tif 0240.tif 0290.tif 0340.tif 0390.tif\n",
      "0041.tif 0091.tif 0141.tif 0191.tif 0241.tif 0291.tif 0341.tif 0391.tif\n",
      "0042.tif 0092.tif 0142.tif 0192.tif 0242.tif 0292.tif 0342.tif 0392.tif\n",
      "0043.tif 0093.tif 0143.tif 0193.tif 0243.tif 0293.tif 0343.tif 0393.tif\n",
      "0044.tif 0094.tif 0144.tif 0194.tif 0244.tif 0294.tif 0344.tif 0394.tif\n",
      "0045.tif 0095.tif 0145.tif 0195.tif 0245.tif 0295.tif 0345.tif 0395.tif\n",
      "0046.tif 0096.tif 0146.tif 0196.tif 0246.tif 0296.tif 0346.tif 0396.tif\n",
      "0047.tif 0097.tif 0147.tif 0197.tif 0247.tif 0297.tif 0347.tif 0397.tif\n",
      "0048.tif 0098.tif 0148.tif 0198.tif 0248.tif 0298.tif 0348.tif 0398.tif\n",
      "0049.tif 0099.tif 0149.tif 0199.tif 0249.tif 0299.tif 0349.tif 0399.tif\n",
      "0050.tif 0100.tif 0150.tif 0200.tif 0250.tif 0300.tif 0350.tif 0400.tif\n"
     ]
    }
   ],
   "source": [
    "!ls ../data/processed/RGB_TIF"
   ]
  },
  {
   "attachments": {},
   "cell_type": "markdown",
   "metadata": {},
   "source": [
    "## Random Sampling Code\n",
    "\n",
    "If you want to create a small data set at the early stage for exploaration. Use the random sampling code, you can use the following code. The following code shows to geneate a 20 tiles (256x256) from the 1000x1000 image."
   ]
  },
  {
   "cell_type": "code",
   "execution_count": 4,
   "metadata": {},
   "outputs": [],
   "source": [
    "# Clean the output folder\n",
    "!rm -rf ../data/processed/Rand/RGB_TIF\n",
    "!rm -rf ../data/processed/Rand/GT_TIF\n"
   ]
  },
  {
   "cell_type": "code",
   "execution_count": 5,
   "metadata": {},
   "outputs": [
    {
     "name": "stderr",
     "output_type": "stream",
     "text": [
      "Generating: 100%|\u001b[32m██████████\u001b[0m| 20/20 [00:00<00:00, 692.43img/s]"
     ]
    },
    {
     "name": "stdout",
     "output_type": "stream",
     "text": [
      "20 sample paris of ('../data/raw/TIF/RGB5k.tif', '../data/raw/TIF/GT5k.tif') are added at ('../data/processed/Rand/RGB_TIF', '../data/processed/Rand/GT_TIF').\n"
     ]
    },
    {
     "name": "stderr",
     "output_type": "stream",
     "text": [
      "\n"
     ]
    }
   ],
   "source": [
    "from splitraster import geo\n",
    "input_image_path = \"../data/raw/TIF/RGB5k.tif\"\n",
    "gt_image_path = \"../data/raw/TIF/GT5k.tif\"\n",
    "\n",
    "input_save_path = \"../data/processed/Rand/RGB_TIF\"\n",
    "gt_save_path = \"../data/processed/Rand/GT_TIF\"\n",
    "\n",
    "n = geo.random_crop_image(input_image_path, input_save_path,  gt_image_path, gt_save_path, crop_size=500, crop_number=20, img_ext='.png', label_ext='.png', overwrite=True)\n",
    "\n",
    "print(f\"{n} sample paris of {input_image_path, gt_image_path} are added at {input_save_path, gt_save_path}.\")"
   ]
  },
  {
   "cell_type": "code",
   "execution_count": 6,
   "metadata": {},
   "outputs": [
    {
     "name": "stdout",
     "output_type": "stream",
     "text": [
      "0001.png 0004.png 0007.png 0010.png 0013.png 0016.png 0019.png\n",
      "0002.png 0005.png 0008.png 0011.png 0014.png 0017.png 0020.png\n",
      "0003.png 0006.png 0009.png 0012.png 0015.png 0018.png\n"
     ]
    }
   ],
   "source": [
    "!ls ../data/processed/Rand/RGB_TIF"
   ]
  },
  {
   "cell_type": "code",
   "execution_count": 8,
   "metadata": {},
   "outputs": [
    {
     "name": "stdout",
     "output_type": "stream",
     "text": [
      "Latest run time 2024-03-23 16:59:37\n"
     ]
    }
   ],
   "source": [
    "# print the current time\n",
    "from datetime import datetime\n",
    "print(f\"Latest run time {datetime.now().strftime('%Y-%m-%d %H:%M:%S')}\")"
   ]
  },
  {
   "cell_type": "markdown",
   "metadata": {},
   "source": [
    "---"
   ]
  }
 ],
 "metadata": {
  "interpreter": {
   "hash": "67d32777f905cb443c7595cdac206bb322335f5bfbf8ae9544bce83f7472f717"
  },
  "kernelspec": {
   "display_name": "Python 3.8.10 64-bit ('base': conda)",
   "name": "python3"
  },
  "language_info": {
   "codemirror_mode": {
    "name": "ipython",
    "version": 3
   },
   "file_extension": ".py",
   "mimetype": "text/x-python",
   "name": "python",
   "nbconvert_exporter": "python",
   "pygments_lexer": "ipython3",
   "version": "3.10.13"
  },
  "orig_nbformat": 4
 },
 "nbformat": 4,
 "nbformat_minor": 2
}
