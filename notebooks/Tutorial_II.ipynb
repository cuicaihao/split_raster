{
 "cells": [
  {
   "attachments": {},
   "cell_type": "markdown",
   "metadata": {},
   "source": [
    "# Tutorial for Using Split-Raster for Deep Learning"
   ]
  },
  {
   "attachments": {},
   "cell_type": "markdown",
   "metadata": {},
   "source": [
    "This demo we will split a large image into small tiles. It is useful for deep learning and computer vision tasks. The package can also be used to split a large image into small tiles for other applications.\n",
    "\n",
    "For example, we have a large image of size 1000-by-1000, and we want to split it into 256-by-256 tiles. The `SplitRaster` package successfully generate 16 256x256 images tiles with automatic padding on the edges. You can adjust the tile size and the overlap of the tiles for your own applications."
   ]
  },
  {
   "attachments": {},
   "cell_type": "markdown",
   "metadata": {},
   "source": [
    "Setup your local or cloud environment for this demo.\n",
    "\n",
    "```Bash\n",
    "conda create -n split_raster_py39 python=3.9 -y\n",
    "conda activate split_raster_py39\n",
    "conda install gdal -y\n",
    "conda install ipykernel -y\n",
    "pip install --upgrade pip\n",
    "pip install splitraster\n",
    "``` "
   ]
  },
  {
   "attachments": {},
   "cell_type": "markdown",
   "metadata": {},
   "source": [
    "This demo we use the python 3.9, but the package is compatible with python 3.7, 3.8, 3.9, 3.10, 3.11. "
   ]
  },
  {
   "cell_type": "code",
   "execution_count": 11,
   "metadata": {},
   "outputs": [],
   "source": [
    "# Clean the output folder\n",
    "!rm -rf ../data/processed/RGB_TIF\n",
    "!rm -rf ../data/processed/GT_TIF\n"
   ]
  },
  {
   "cell_type": "code",
   "execution_count": 12,
   "metadata": {},
   "outputs": [
    {
     "name": "stdout",
     "output_type": "stream",
     "text": [
      "Input Image File Shape (D, H, W):(3, 5000, 5000)\n",
      "crop_size=256, stride=256\n",
      "Padding Image File Shape (D, H, W):(3, 5120, 5120)\n"
     ]
    },
    {
     "name": "stderr",
     "output_type": "stream",
     "text": [
      "Generating: 100%|\u001b[32m██████████\u001b[0m| 400/400 [00:00<00:00, 933.96img/s]\n"
     ]
    },
    {
     "name": "stdout",
     "output_type": "stream",
     "text": [
      "400 tiles sample of ../data/raw/TIF/RGB5k.tif are added at ../data/processed/RGB_TIF\n",
      "Input Image File Shape (D, H, W):(1, 5000, 5000)\n",
      "crop_size=256, stride=256\n",
      "Padding Image File Shape (D, H, W):(1, 5120, 5120)\n"
     ]
    },
    {
     "name": "stderr",
     "output_type": "stream",
     "text": [
      "Generating: 100%|\u001b[32m██████████\u001b[0m| 400/400 [00:00<00:00, 1179.87img/s]"
     ]
    },
    {
     "name": "stdout",
     "output_type": "stream",
     "text": [
      "400 tiles sample of ../data/raw/TIF/GT5k.tif are added at ../data/processed/GT_TIF\n"
     ]
    },
    {
     "name": "stderr",
     "output_type": "stream",
     "text": [
      "\n"
     ]
    }
   ],
   "source": [
    "from splitraster import geo\n",
    "\n",
    "input_image_path = \"../data/raw/TIF/RGB5k.tif\"\n",
    "gt_image_path = \"../data/raw/TIF/GT5k.tif\"\n",
    "\n",
    "save_path = \"../data/processed/RGB_TIF\"\n",
    "save_path_gt = \"../data/processed/GT_TIF\"\n",
    "\n",
    "crop_size = 256\n",
    "repetition_rate = 0 # <----- change this value to 0.5 for 50% overlap\n",
    "overwrite = True # <----- change this value to False for no overwrite demo\n",
    "\n",
    "n = geo.split_image(input_image_path, save_path, crop_size,\n",
    "                   repetition_rate=repetition_rate, overwrite=overwrite)\n",
    "print(f\"{n} tiles sample of {input_image_path} are added at {save_path}\")\n",
    "\n",
    "\n",
    "n = geo.split_image(gt_image_path, save_path_gt, crop_size,\n",
    "                   repetition_rate=repetition_rate, overwrite=overwrite)\n",
    "print(f\"{n} tiles sample of {gt_image_path} are added at {save_path_gt}\")"
   ]
  },
  {
   "cell_type": "code",
   "execution_count": 14,
   "metadata": {},
   "outputs": [],
   "source": [
    "# !ls ../data/processed/RGB_TIF"
   ]
  },
  {
   "attachments": {},
   "cell_type": "markdown",
   "metadata": {},
   "source": [
    "## Random Sampling Code\n",
    "\n",
    "If you want to create a small data set at the early stage for exploaration. Use the random sampling code, you can use the following code. The following code shows to geneate a 20 tiles (256x256) from the 1000x1000 image."
   ]
  },
  {
   "cell_type": "code",
   "execution_count": 6,
   "metadata": {},
   "outputs": [],
   "source": [
    "# Clean the output folder\n",
    "!rm -rf ../data/processed/Rand/RGB_TIF\n",
    "!rm -rf ../data/processed/Rand/GT_TIF\n"
   ]
  },
  {
   "cell_type": "code",
   "execution_count": 7,
   "metadata": {},
   "outputs": [
    {
     "name": "stderr",
     "output_type": "stream",
     "text": [
      "Generating: 100%|\u001b[32m██████████\u001b[0m| 20/20 [00:00<00:00, 309.09img/s]"
     ]
    },
    {
     "name": "stdout",
     "output_type": "stream",
     "text": [
      "20 sample paris of ('../data/raw/TIF/RGB5k.tif', '../data/raw/TIF/GT5k.tif') are added at ('../data/processed/Rand/RGB_TIF', '../data/processed/Rand/GT_TIF').\n"
     ]
    },
    {
     "name": "stderr",
     "output_type": "stream",
     "text": [
      "\n"
     ]
    }
   ],
   "source": [
    "from splitraster import geo\n",
    "input_image_path = \"../data/raw/TIF/RGB5k.tif\"\n",
    "gt_image_path = \"../data/raw/TIF/GT5k.tif\"\n",
    "\n",
    "input_save_path = \"../data/processed/Rand/RGB_TIF\"\n",
    "gt_save_path = \"../data/processed/Rand/GT_TIF\"\n",
    "\n",
    "n = geo.random_crop_image(input_image_path, input_save_path,  gt_image_path, gt_save_path, crop_size=500, crop_number=20, img_ext='.png', label_ext='.png', overwrite=True)\n",
    "\n",
    "print(f\"{n} sample paris of {input_image_path, gt_image_path} are added at {input_save_path, gt_save_path}.\")"
   ]
  },
  {
   "cell_type": "code",
   "execution_count": 8,
   "metadata": {},
   "outputs": [
    {
     "name": "stdout",
     "output_type": "stream",
     "text": [
      "0001.png 0004.png 0007.png 0010.png 0013.png 0016.png 0019.png\n",
      "0002.png 0005.png 0008.png 0011.png 0014.png 0017.png 0020.png\n",
      "0003.png 0006.png 0009.png 0012.png 0015.png 0018.png\n"
     ]
    }
   ],
   "source": [
    "!ls ../data/processed/Rand/RGB_TIF"
   ]
  },
  {
   "cell_type": "code",
   "execution_count": null,
   "metadata": {},
   "outputs": [],
   "source": []
  }
 ],
 "metadata": {
  "interpreter": {
   "hash": "67d32777f905cb443c7595cdac206bb322335f5bfbf8ae9544bce83f7472f717"
  },
  "kernelspec": {
   "display_name": "Python 3.8.10 64-bit ('base': conda)",
   "name": "python3"
  },
  "language_info": {
   "codemirror_mode": {
    "name": "ipython",
    "version": 3
   },
   "file_extension": ".py",
   "mimetype": "text/x-python",
   "name": "python",
   "nbconvert_exporter": "python",
   "pygments_lexer": "ipython3",
   "version": "3.9.16"
  },
  "orig_nbformat": 4
 },
 "nbformat": 4,
 "nbformat_minor": 2
}
